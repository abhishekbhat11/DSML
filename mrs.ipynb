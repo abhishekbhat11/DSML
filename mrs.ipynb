{
  "nbformat": 4,
  "nbformat_minor": 0,
  "metadata": {
    "colab": {
      "provenance": [],
      "authorship_tag": "ABX9TyP8Rm2XuwUTGhjx+WrwNjbK",
      "include_colab_link": true
    },
    "kernelspec": {
      "name": "python3",
      "display_name": "Python 3"
    },
    "language_info": {
      "name": "python"
    }
  },
  "cells": [
    {
      "cell_type": "markdown",
      "metadata": {
        "id": "view-in-github",
        "colab_type": "text"
      },
      "source": [
        "<a href=\"https://colab.research.google.com/github/abhishekbhat11/DSML/blob/main/mrs.ipynb\" target=\"_parent\"><img src=\"https://colab.research.google.com/assets/colab-badge.svg\" alt=\"Open In Colab\"/></a>"
      ]
    },
    {
      "cell_type": "code",
      "execution_count": 2,
      "metadata": {
        "colab": {
          "base_uri": "https://localhost:8080/"
        },
        "id": "k414Ryxm3Y3B",
        "outputId": "9ad59781-67b7-472c-c16b-41790d85b4ed"
      },
      "outputs": [
        {
          "output_type": "stream",
          "name": "stderr",
          "text": [
            "/usr/local/lib/python3.7/dist-packages/fuzzywuzzy/fuzz.py:11: UserWarning: Using slow pure-python SequenceMatcher. Install python-Levenshtein to remove this warning\n",
            "  warnings.warn('Using slow pure-python SequenceMatcher. Install python-Levenshtein to remove this warning')\n"
          ]
        }
      ],
      "source": [
        "import pandas as pd\n",
        "from scipy.sparse import csr_matrix\n",
        "from sklearn.neighbors import NearestNeighbors\n",
        "from fuzzywuzzy import process"
      ]
    },
    {
      "cell_type": "code",
      "source": [
        "pip install fuzzywuzzy"
      ],
      "metadata": {
        "colab": {
          "base_uri": "https://localhost:8080/"
        },
        "id": "Js0_hrKy6c38",
        "outputId": "c0ebf538-c7d8-4947-df8b-84549505781a"
      },
      "execution_count": 1,
      "outputs": [
        {
          "output_type": "stream",
          "name": "stdout",
          "text": [
            "Looking in indexes: https://pypi.org/simple, https://us-python.pkg.dev/colab-wheels/public/simple/\n",
            "Collecting fuzzywuzzy\n",
            "  Downloading fuzzywuzzy-0.18.0-py2.py3-none-any.whl (18 kB)\n",
            "Installing collected packages: fuzzywuzzy\n",
            "Successfully installed fuzzywuzzy-0.18.0\n"
          ]
        }
      ]
    },
    {
      "cell_type": "code",
      "source": [
        "movies='movies.csv'\n",
        "ratings='ratings.csv'\n",
        "\n",
        "df_movies=pd.read_csv(movies, usecols=['movieId','title','genres'], dtype={'movieId':'int32','title':'str'})\n",
        "df_ratings=pd.read_csv(ratings, usecols=['userId','movieId','rating'],dtype={'userId':'int32','movieId':'int32','rating':'float32'})"
      ],
      "metadata": {
        "id": "MV0BwbCjCqre"
      },
      "execution_count": 3,
      "outputs": []
    },
    {
      "cell_type": "code",
      "source": [
        "df_movies.dropna()\n",
        "df_ratings.dropna()"
      ],
      "metadata": {
        "colab": {
          "base_uri": "https://localhost:8080/",
          "height": 424
        },
        "id": "-UGA3Q7mdIdP",
        "outputId": "48ddb3b1-24c9-4c05-b427-0902bbd4c3a6"
      },
      "execution_count": 4,
      "outputs": [
        {
          "output_type": "execute_result",
          "data": {
            "text/plain": [
              "        userId  movieId  rating\n",
              "0            1        1     4.0\n",
              "1            5        1     4.0\n",
              "2            7        1     4.5\n",
              "3           15        1     2.5\n",
              "4           17        1     4.5\n",
              "...        ...      ...     ...\n",
              "100831     184   193581     4.0\n",
              "100832     184   193583     3.5\n",
              "100833     184   193585     3.5\n",
              "100834     184   193587     3.5\n",
              "100835     331   193609     4.0\n",
              "\n",
              "[100836 rows x 3 columns]"
            ],
            "text/html": [
              "\n",
              "  <div id=\"df-ec7015a1-a022-4f31-ad5a-869ad0cac473\">\n",
              "    <div class=\"colab-df-container\">\n",
              "      <div>\n",
              "<style scoped>\n",
              "    .dataframe tbody tr th:only-of-type {\n",
              "        vertical-align: middle;\n",
              "    }\n",
              "\n",
              "    .dataframe tbody tr th {\n",
              "        vertical-align: top;\n",
              "    }\n",
              "\n",
              "    .dataframe thead th {\n",
              "        text-align: right;\n",
              "    }\n",
              "</style>\n",
              "<table border=\"1\" class=\"dataframe\">\n",
              "  <thead>\n",
              "    <tr style=\"text-align: right;\">\n",
              "      <th></th>\n",
              "      <th>userId</th>\n",
              "      <th>movieId</th>\n",
              "      <th>rating</th>\n",
              "    </tr>\n",
              "  </thead>\n",
              "  <tbody>\n",
              "    <tr>\n",
              "      <th>0</th>\n",
              "      <td>1</td>\n",
              "      <td>1</td>\n",
              "      <td>4.0</td>\n",
              "    </tr>\n",
              "    <tr>\n",
              "      <th>1</th>\n",
              "      <td>5</td>\n",
              "      <td>1</td>\n",
              "      <td>4.0</td>\n",
              "    </tr>\n",
              "    <tr>\n",
              "      <th>2</th>\n",
              "      <td>7</td>\n",
              "      <td>1</td>\n",
              "      <td>4.5</td>\n",
              "    </tr>\n",
              "    <tr>\n",
              "      <th>3</th>\n",
              "      <td>15</td>\n",
              "      <td>1</td>\n",
              "      <td>2.5</td>\n",
              "    </tr>\n",
              "    <tr>\n",
              "      <th>4</th>\n",
              "      <td>17</td>\n",
              "      <td>1</td>\n",
              "      <td>4.5</td>\n",
              "    </tr>\n",
              "    <tr>\n",
              "      <th>...</th>\n",
              "      <td>...</td>\n",
              "      <td>...</td>\n",
              "      <td>...</td>\n",
              "    </tr>\n",
              "    <tr>\n",
              "      <th>100831</th>\n",
              "      <td>184</td>\n",
              "      <td>193581</td>\n",
              "      <td>4.0</td>\n",
              "    </tr>\n",
              "    <tr>\n",
              "      <th>100832</th>\n",
              "      <td>184</td>\n",
              "      <td>193583</td>\n",
              "      <td>3.5</td>\n",
              "    </tr>\n",
              "    <tr>\n",
              "      <th>100833</th>\n",
              "      <td>184</td>\n",
              "      <td>193585</td>\n",
              "      <td>3.5</td>\n",
              "    </tr>\n",
              "    <tr>\n",
              "      <th>100834</th>\n",
              "      <td>184</td>\n",
              "      <td>193587</td>\n",
              "      <td>3.5</td>\n",
              "    </tr>\n",
              "    <tr>\n",
              "      <th>100835</th>\n",
              "      <td>331</td>\n",
              "      <td>193609</td>\n",
              "      <td>4.0</td>\n",
              "    </tr>\n",
              "  </tbody>\n",
              "</table>\n",
              "<p>100836 rows × 3 columns</p>\n",
              "</div>\n",
              "      <button class=\"colab-df-convert\" onclick=\"convertToInteractive('df-ec7015a1-a022-4f31-ad5a-869ad0cac473')\"\n",
              "              title=\"Convert this dataframe to an interactive table.\"\n",
              "              style=\"display:none;\">\n",
              "        \n",
              "  <svg xmlns=\"http://www.w3.org/2000/svg\" height=\"24px\"viewBox=\"0 0 24 24\"\n",
              "       width=\"24px\">\n",
              "    <path d=\"M0 0h24v24H0V0z\" fill=\"none\"/>\n",
              "    <path d=\"M18.56 5.44l.94 2.06.94-2.06 2.06-.94-2.06-.94-.94-2.06-.94 2.06-2.06.94zm-11 1L8.5 8.5l.94-2.06 2.06-.94-2.06-.94L8.5 2.5l-.94 2.06-2.06.94zm10 10l.94 2.06.94-2.06 2.06-.94-2.06-.94-.94-2.06-.94 2.06-2.06.94z\"/><path d=\"M17.41 7.96l-1.37-1.37c-.4-.4-.92-.59-1.43-.59-.52 0-1.04.2-1.43.59L10.3 9.45l-7.72 7.72c-.78.78-.78 2.05 0 2.83L4 21.41c.39.39.9.59 1.41.59.51 0 1.02-.2 1.41-.59l7.78-7.78 2.81-2.81c.8-.78.8-2.07 0-2.86zM5.41 20L4 18.59l7.72-7.72 1.47 1.35L5.41 20z\"/>\n",
              "  </svg>\n",
              "      </button>\n",
              "      \n",
              "  <style>\n",
              "    .colab-df-container {\n",
              "      display:flex;\n",
              "      flex-wrap:wrap;\n",
              "      gap: 12px;\n",
              "    }\n",
              "\n",
              "    .colab-df-convert {\n",
              "      background-color: #E8F0FE;\n",
              "      border: none;\n",
              "      border-radius: 50%;\n",
              "      cursor: pointer;\n",
              "      display: none;\n",
              "      fill: #1967D2;\n",
              "      height: 32px;\n",
              "      padding: 0 0 0 0;\n",
              "      width: 32px;\n",
              "    }\n",
              "\n",
              "    .colab-df-convert:hover {\n",
              "      background-color: #E2EBFA;\n",
              "      box-shadow: 0px 1px 2px rgba(60, 64, 67, 0.3), 0px 1px 3px 1px rgba(60, 64, 67, 0.15);\n",
              "      fill: #174EA6;\n",
              "    }\n",
              "\n",
              "    [theme=dark] .colab-df-convert {\n",
              "      background-color: #3B4455;\n",
              "      fill: #D2E3FC;\n",
              "    }\n",
              "\n",
              "    [theme=dark] .colab-df-convert:hover {\n",
              "      background-color: #434B5C;\n",
              "      box-shadow: 0px 1px 3px 1px rgba(0, 0, 0, 0.15);\n",
              "      filter: drop-shadow(0px 1px 2px rgba(0, 0, 0, 0.3));\n",
              "      fill: #FFFFFF;\n",
              "    }\n",
              "  </style>\n",
              "\n",
              "      <script>\n",
              "        const buttonEl =\n",
              "          document.querySelector('#df-ec7015a1-a022-4f31-ad5a-869ad0cac473 button.colab-df-convert');\n",
              "        buttonEl.style.display =\n",
              "          google.colab.kernel.accessAllowed ? 'block' : 'none';\n",
              "\n",
              "        async function convertToInteractive(key) {\n",
              "          const element = document.querySelector('#df-ec7015a1-a022-4f31-ad5a-869ad0cac473');\n",
              "          const dataTable =\n",
              "            await google.colab.kernel.invokeFunction('convertToInteractive',\n",
              "                                                     [key], {});\n",
              "          if (!dataTable) return;\n",
              "\n",
              "          const docLinkHtml = 'Like what you see? Visit the ' +\n",
              "            '<a target=\"_blank\" href=https://colab.research.google.com/notebooks/data_table.ipynb>data table notebook</a>'\n",
              "            + ' to learn more about interactive tables.';\n",
              "          element.innerHTML = '';\n",
              "          dataTable['output_type'] = 'display_data';\n",
              "          await google.colab.output.renderOutput(dataTable, element);\n",
              "          const docLink = document.createElement('div');\n",
              "          docLink.innerHTML = docLinkHtml;\n",
              "          element.appendChild(docLink);\n",
              "        }\n",
              "      </script>\n",
              "    </div>\n",
              "  </div>\n",
              "  "
            ]
          },
          "metadata": {},
          "execution_count": 4
        }
      ]
    },
    {
      "cell_type": "code",
      "source": [
        "\n",
        "\n",
        "movies_users=df_ratings.pivot(index='movieId', columns='userId',values='rating').fillna(0)\n",
        "mat_movies_users=csr_matrix(movies_users.values)\n"
      ],
      "metadata": {
        "id": "cCft1BHuCtsa"
      },
      "execution_count": 5,
      "outputs": []
    },
    {
      "cell_type": "code",
      "source": [
        "\n",
        "model_knn= NearestNeighbors(metric='cosine', algorithm='brute', n_neighbors=20)"
      ],
      "metadata": {
        "id": "q_7qQNBECyWG"
      },
      "execution_count": 6,
      "outputs": []
    },
    {
      "cell_type": "code",
      "source": [
        "model_knn.fit(mat_movies_users)"
      ],
      "metadata": {
        "colab": {
          "base_uri": "https://localhost:8080/"
        },
        "id": "aF79XtN-C3TK",
        "outputId": "14505dd6-c277-4c5a-b7f7-ea04cb81eb2d"
      },
      "execution_count": 7,
      "outputs": [
        {
          "output_type": "execute_result",
          "data": {
            "text/plain": [
              "NearestNeighbors(algorithm='brute', metric='cosine', n_neighbors=20)"
            ]
          },
          "metadata": {},
          "execution_count": 7
        }
      ]
    },
    {
      "cell_type": "code",
      "source": [
        "\n",
        "\n",
        "def r(movie_name, data,model, n_recommendations ):\n",
        "    model.fit(data)\n",
        "    idx=process.extractOne(movie_name, df_movies['title'])[2]\n",
        "    print('Movie Selected: ',df_movies['title'][idx], 'Index: ',idx)\n",
        "    print(\"Searching...\")\n",
        "    distances, indices=model.kneighbors(data[idx], n_neighbors=n_recommendations)\n",
        "    for i in indices:\n",
        "        a=df_movies['title'][i].where(i!=idx)\n",
        "        b=df_movies['genres'][i].where(i!=idx)\n",
        "        print(a,b,sep=\" \")\n",
        "r('Casino', mat_movies_users, model_knn,20)\n",
        "    "
      ],
      "metadata": {
        "colab": {
          "base_uri": "https://localhost:8080/"
        },
        "id": "n3-zBQTjC5hy",
        "outputId": "dc7f79a0-31c9-43a3-812b-472f64134227"
      },
      "execution_count": 16,
      "outputs": [
        {
          "output_type": "stream",
          "name": "stdout",
          "text": [
            "Movie Selected:  Casino (1995) Index:  15\n",
            "Searching...\n",
            "15                                            NaN\n",
            "913                         Third Man, The (1949)\n",
            "5                                     Heat (1995)\n",
            "3162       Crocodile Dundee in Los Angeles (2001)\n",
            "486                           True Romance (1993)\n",
            "1123                              Rosewood (1997)\n",
            "375                          Carlito's Way (1993)\n",
            "827                          Dirty Dancing (1987)\n",
            "46                     Usual Suspects, The (1995)\n",
            "922                Godfather: Part II, The (1974)\n",
            "257                           Pulp Fiction (1994)\n",
            "1297                             Mr. Magoo (1997)\n",
            "43                    Seven (a.k.a. Se7en) (1995)\n",
            "31      Twelve Monkeys (a.k.a. 12 Monkeys) (1995)\n",
            "190                                 Clerks (1994)\n",
            "908                  To Kill a Mockingbird (1962)\n",
            "2637                  Prince of Tides, The (1991)\n",
            "520                                  Fargo (1996)\n",
            "1294                  Horse Whisperer, The (1998)\n",
            "613                          Trainspotting (1996)\n",
            "Name: title, dtype: object 15                              NaN\n",
            "913      Film-Noir|Mystery|Thriller\n",
            "5             Action|Crime|Thriller\n",
            "3162                   Comedy|Drama\n",
            "486                  Crime|Thriller\n",
            "1123                   Action|Drama\n",
            "375                     Crime|Drama\n",
            "827           Drama|Musical|Romance\n",
            "46           Crime|Mystery|Thriller\n",
            "922                     Crime|Drama\n",
            "257     Comedy|Crime|Drama|Thriller\n",
            "1297                         Comedy\n",
            "43                 Mystery|Thriller\n",
            "31          Mystery|Sci-Fi|Thriller\n",
            "190                          Comedy\n",
            "908                           Drama\n",
            "2637                  Drama|Romance\n",
            "520     Comedy|Crime|Drama|Thriller\n",
            "1294                  Drama|Romance\n",
            "613              Comedy|Crime|Drama\n",
            "Name: genres, dtype: object\n"
          ]
        }
      ]
    }
  ]
}